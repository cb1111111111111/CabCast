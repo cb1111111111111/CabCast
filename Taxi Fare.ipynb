{
 "cells": [
  {
   "cell_type": "code",
   "execution_count": 1,
   "id": "b4430b8a-7269-4478-919d-db5c7021c639",
   "metadata": {},
   "outputs": [
    {
     "name": "stdout",
     "output_type": "stream",
     "text": [
      "[ 7.760515    7.760515   35.4160308  ...  9.28206644 47.80711434\n",
      "  9.28206644]\n",
      "Predicted fare amount: [9.28206644]\n"
     ]
    }
   ],
   "source": [
    "import pandas as pd\n",
    "from sklearn.model_selection import train_test_split\n",
    "from sklearn.ensemble import RandomForestRegressor\n",
    "from sklearn.impute import SimpleImputer\n",
    "\n",
    "# Load data\n",
    "data_train = pd.read_csv('fare_taxi_train.csv')\n",
    "data_test = pd.read_csv('fare_taxi_test.csv')\n",
    "\n",
    "# Preprocess datetime column\n",
    "data_train['pickup_datetime'] = pd.to_datetime(data_train['pickup_datetime'])\n",
    "data_train['pickup_datetime'] = data_train['pickup_datetime'].astype('int64') // 10**9\n",
    "data_test['pickup_datetime'] = pd.to_datetime(data_test['pickup_datetime'])\n",
    "data_test['pickup_datetime'] = data_test['pickup_datetime'].astype('int64') // 10**9\n",
    "\n",
    "# Define features and target\n",
    "x = data_train.drop(columns=['fare_amount'])  # Assuming 'fare_amount' is the target\n",
    "y = data_train['fare_amount']\n",
    "\n",
    "# Split data into training and test sets\n",
    "x_train, x_test, y_train, y_test = train_test_split(x, y, test_size=0.2, random_state=42)\n",
    "\n",
    "# Define numeric and categorical features\n",
    "numeric_data = ['pickup_longitude', 'pickup_latitude', 'dropoff_longitude', 'dropoff_latitude', 'passenger_count', 'pickup_datetime']\n",
    "categorical_data = ['key']\n",
    "\n",
    "# Ensure that only the necessary columns are selected for training\n",
    "x_train = x_train[numeric_data]\n",
    "x_test = x_test[numeric_data]\n",
    "\n",
    "# Handle missing values\n",
    "imputer = SimpleImputer(strategy='mean')\n",
    "x_train = imputer.fit_transform(x_train)\n",
    "x_test = imputer.transform(x_test)\n",
    "\n",
    "# Initialize and fit the model\n",
    "rfr = RandomForestRegressor(random_state=42, n_jobs=-1, max_depth=10, n_estimators=100)\n",
    "rfr.fit(x_train, y_train)\n",
    "\n",
    "# Predict on the test set\n",
    "y_pred = rfr.predict(x_test)\n",
    "\n",
    "print(y_pred)\n",
    "\n",
    "# Assuming new_data is a dictionary containing the input features for prediction\n",
    "new_data = {\n",
    "    'pickup_longitude': -73.987,\n",
    "    'pickup_latitude': 40.748,\n",
    "    'dropoff_longitude': -73.990,\n",
    "    'dropoff_latitude': 40.752,\n",
    "    'passenger_count': 2,\n",
    "    'pickup_datetime': 1609459200  # Unix timestamp for January 1, 2023, 12:00:00 AM (UTC)\n",
    "}\n",
    "# Convert the dictionary to a DataFrame\n",
    "new_df = pd.DataFrame([new_data])\n",
    "\n",
    "# Handle missing values (if any)\n",
    "new_df = imputer.transform(new_df)\n",
    "\n",
    "# Make prediction\n",
    "prediction = rfr.predict(new_df)\n",
    "\n",
    "print(\"Predicted fare amount:\", prediction)\n"
   ]
  },
  {
   "cell_type": "code",
   "execution_count": null,
   "id": "e6bb79f1-5ea3-4fbf-b58c-77847545f7ef",
   "metadata": {},
   "outputs": [],
   "source": []
  }
 ],
 "metadata": {
  "kernelspec": {
   "display_name": "Python 3 (ipykernel)",
   "language": "python",
   "name": "python3"
  },
  "language_info": {
   "codemirror_mode": {
    "name": "ipython",
    "version": 3
   },
   "file_extension": ".py",
   "mimetype": "text/x-python",
   "name": "python",
   "nbconvert_exporter": "python",
   "pygments_lexer": "ipython3",
   "version": "3.12.4"
  }
 },
 "nbformat": 4,
 "nbformat_minor": 5
}
